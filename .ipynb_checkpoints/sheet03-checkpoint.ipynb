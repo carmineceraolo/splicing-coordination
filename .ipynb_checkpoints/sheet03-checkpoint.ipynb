{
 "cells": [
  {
   "cell_type": "code",
   "execution_count": 3,
   "id": "93ab01bc-c451-4826-a081-e1f6eac31a65",
   "metadata": {},
   "outputs": [
    {
     "name": "stderr",
     "output_type": "stream",
     "text": [
      "INFO:This is isootools version 0.2.11rc1\n"
     ]
    }
   ],
   "source": [
    "from isotools import Transcriptome\n",
    "from isotools import __version__ as isotools_version\n",
    "from isotools._utils import _filter_event\n",
    "\n",
    "import os\n",
    "from pathlib import Path\n",
    "import logging\n",
    "from collections import Counter\n",
    "from urllib.request import urlretrieve\n",
    "import itertools\n",
    "from tqdm.notebook import tqdm_notebook as tqdm\n",
    "\n",
    "import math\n",
    "import numpy as np\n",
    "import pandas as pd\n",
    "import matplotlib.pyplot as plt\n",
    "import seaborn as sns\n",
    "import pysam\n",
    "\n",
    "logging.basicConfig(format='%(levelname)s:%(message)s', level=logging.INFO)\n",
    "logger=logging.getLogger('isotools')\n",
    "logger.info(f'This is isootools version {isotools_version}')"
   ]
  },
  {
   "cell_type": "code",
   "execution_count": 4,
   "id": "97e841bd-f443-41a8-b977-b443033a8814",
   "metadata": {},
   "outputs": [],
   "source": [
    "def eval_trid(df):\n",
    "    df.priA_priB_trID=[eval(e) for e in df.priA_priB_trID]\n",
    "    df.priA_altB_trID=[eval(e) for e in df.priA_altB_trID]\n",
    "    df.altA_priB_trID=[eval(e) for e in df.altA_priB_trID]\n",
    "    df.altA_altB_trID=[eval(e) for e in df.altA_altB_trID]\n",
    "    pass"
   ]
  },
  {
   "cell_type": "code",
   "execution_count": 7,
   "id": "d7b5c495-4bfa-46a2-898c-29b68f93a3d8",
   "metadata": {},
   "outputs": [],
   "source": [
    "tissue_names=['left ventricle myocardium superior', 'Right ventricle myocardium superior',\n",
    "              'mucosa of descending colon', 'heart left ventricle',\n",
    "              'posterior vena cava', 'left cardiac atrium',\n",
    "              'aorta', 'ovary', 'adrenal gland',\n",
    "              'mesenteric fat pad', 'upper lobe of right lung',\n",
    "              'heart right ventricle', 'left ventricle myocardium inferior',\n",
    "              'left colon', 'right cardiac atrium',\n",
    "              'lower lobe of right lung', 'lower lobe of left lung',\n",
    "              'kidney', 'psoas muscle',\n",
    "              'Right ventricle myocardium inferior', 'cardiac septum']"
   ]
  },
  {
   "cell_type": "code",
   "execution_count": 8,
   "id": "ed9debce-1f57-4311-9205-511998b5fb5c",
   "metadata": {},
   "outputs": [
    {
     "name": "stderr",
     "output_type": "stream",
     "text": [
      "INFO:reading left_ventricle_myocardium_superior.csv\n",
      "INFO:reading Right_ventricle_myocardium_superior.csv\n",
      "INFO:reading mucosa_of_descending_colon.csv\n",
      "INFO:reading heart_left_ventricle.csv\n",
      "INFO:reading posterior_vena_cava.csv\n",
      "INFO:reading left_cardiac_atrium.csv\n",
      "INFO:reading aorta.csv\n",
      "INFO:reading ovary.csv\n",
      "INFO:reading adrenal_gland.csv\n",
      "INFO:reading mesenteric_fat_pad.csv\n",
      "INFO:reading upper_lobe_of_right_lung.csv\n",
      "INFO:reading heart_right_ventricle.csv\n",
      "INFO:reading left_ventricle_myocardium_inferior.csv\n",
      "INFO:reading left_colon.csv\n",
      "INFO:reading right_cardiac_atrium.csv\n",
      "INFO:reading lower_lobe_of_right_lung.csv\n",
      "INFO:reading lower_lobe_of_left_lung.csv\n",
      "INFO:reading kidney.csv\n",
      "INFO:reading psoas_muscle.csv\n",
      "INFO:reading Right_ventricle_myocardium_inferior.csv\n",
      "INFO:reading cardiac_septum.csv\n"
     ]
    }
   ],
   "source": [
    "tbl_path=\"./tables/tissue/\"\n",
    "files=[x.name for x in Path(tbl_path).iterdir()]\n",
    "\n",
    "tissue_dict={}\n",
    "\n",
    "for tissue in tissue_names:\n",
    "    \n",
    "    tissue_key=tissue.replace(' ','_')\n",
    "    fname=tissue_key+'.csv'\n",
    "    \n",
    "    logger.info(f\"reading {fname}\")\n",
    "    tissue_dict[tissue]=pd.read_csv(tbl_path+fname)\n",
    "    eval_trid(tissue_dict[tissue])"
   ]
  },
  {
   "cell_type": "markdown",
   "id": "102c5863-e3b8-4f46-bc29-6d16f13fabbd",
   "metadata": {
    "jp-MarkdownHeadingCollapsed": true,
    "tags": []
   },
   "source": [
    "## Make event IDs"
   ]
  },
  {
   "cell_type": "code",
   "execution_count": 9,
   "id": "7a3aeb23-f9d7-454e-9b68-f7f54f520993",
   "metadata": {},
   "outputs": [],
   "source": [
    "def make_event_ids(coor_tbl,progress_bar=True):\n",
    "    \n",
    "    event_ids=[]\n",
    "    \n",
    "    if progress_bar==True:\n",
    "        for i,r in tqdm(coor_tbl.iterrows(),total=coor_tbl.shape[0]):\n",
    "            event_ids.append(':'.join([r.ase1_type,r.ase2_type,str(r.ase1_start),\n",
    "                                       str(r.ase1_end),str(r.ase2_start),str(r.ase2_end)]))\n",
    "    else:\n",
    "        for i,r in coor_tbl.iterrows():\n",
    "            event_ids.append(':'.join([r.ase1_type,r.ase2_type,str(r.ase1_start),\n",
    "                                       str(r.ase1_end),str(r.ase2_start),str(r.ase2_end)]))\n",
    "        \n",
    "    return event_ids"
   ]
  },
  {
   "cell_type": "code",
   "execution_count": 10,
   "id": "b3ffc926-0477-4763-b4f1-c6087d973a47",
   "metadata": {},
   "outputs": [],
   "source": [
    "def make_group_ids(tabl_dict,progress_bar=True):\n",
    "    group_ids={}\n",
    "    \n",
    "    if progress_bar==True:\n",
    "        for k in tqdm(tabl_dict.keys()):\n",
    "            group_ids[k]=make_event_ids(tabl_dict[k],progress_bar=False)\n",
    "    else:\n",
    "        for k in tabl_dict.keys():\n",
    "            group_ids[k]=make_event_ids(tabl_dict[k],progress_bar=False)\n",
    "    return group_ids"
   ]
  },
  {
   "cell_type": "code",
   "execution_count": 11,
   "id": "404d51b3-632c-47a1-94ea-9c457c23411c",
   "metadata": {},
   "outputs": [
    {
     "data": {
      "application/vnd.jupyter.widget-view+json": {
       "model_id": "bdfeb6f9adb34aa18eb2242542e2e9df",
       "version_major": 2,
       "version_minor": 0
      },
      "text/plain": [
       "  0%|          | 0/21 [00:00<?, ?it/s]"
      ]
     },
     "metadata": {},
     "output_type": "display_data"
    }
   ],
   "source": [
    "tissue_ids=make_group_ids(tissue_dict)"
   ]
  },
  {
   "cell_type": "code",
   "execution_count": 20,
   "id": "bca03ccc-f38b-464e-a802-122bd3d50a3f",
   "metadata": {},
   "outputs": [],
   "source": [
    "for k,tab in tissue_dict.items():\n",
    "    tab[\"pID\"]=tissue_ids[k] # assign pair id"
   ]
  },
  {
   "cell_type": "markdown",
   "id": "c4884792-99fb-4e35-8c1d-e95fad1443a2",
   "metadata": {},
   "source": [
    "## Create the DataFrame for the Clustering"
   ]
  },
  {
   "cell_type": "code",
   "execution_count": 31,
   "id": "d9e410c8-eaec-4b2c-a33a-0848be2224b0",
   "metadata": {},
   "outputs": [
    {
     "name": "stdout",
     "output_type": "stream",
     "text": [
      "27878\n"
     ]
    }
   ],
   "source": [
    "all_ids=[]\n",
    "for k,tab in tissue_dict.items():\n",
    "    all_ids.extend(list(tab.pID))\n",
    "all_ids=list(set(all_ids))\n",
    "print(len(all_ids))"
   ]
  },
  {
   "cell_type": "code",
   "execution_count": 59,
   "id": "212d11a5-730e-4e40-bf94-a196c2552249",
   "metadata": {},
   "outputs": [
    {
     "data": {
      "application/vnd.jupyter.widget-view+json": {
       "model_id": "93ef15c003354015945072d9fcf48e5f",
       "version_major": 2,
       "version_minor": 0
      },
      "text/plain": [
       "  0%|          | 0/27878 [00:00<?, ?it/s]"
      ]
     },
     "metadata": {},
     "output_type": "display_data"
    },
    {
     "name": "stdout",
     "output_type": "stream",
     "text": [
      "errors encountered: 59\r"
     ]
    },
    {
     "ename": "KeyboardInterrupt",
     "evalue": "",
     "output_type": "error",
     "traceback": [
      "\u001b[0;31m---------------------------------------------------------------------------\u001b[0m",
      "\u001b[0;31mKeyboardInterrupt\u001b[0m                         Traceback (most recent call last)",
      "Input \u001b[0;32mIn [59]\u001b[0m, in \u001b[0;36m<cell line: 5>\u001b[0;34m()\u001b[0m\n\u001b[1;32m      5\u001b[0m \u001b[38;5;28;01mfor\u001b[39;00m pid \u001b[38;5;129;01min\u001b[39;00m tqdm(all_ids):\n\u001b[1;32m      6\u001b[0m     \u001b[38;5;28;01mfor\u001b[39;00m k,tab \u001b[38;5;129;01min\u001b[39;00m tissue_dict\u001b[38;5;241m.\u001b[39mitems():\n\u001b[0;32m----> 7\u001b[0m         r\u001b[38;5;241m=\u001b[39m\u001b[43mtab\u001b[49m\u001b[43m[\u001b[49m\u001b[43mtab\u001b[49m\u001b[38;5;241;43m.\u001b[39;49m\u001b[43mpID\u001b[49m\u001b[38;5;241;43m==\u001b[39;49m\u001b[43mpid\u001b[49m\u001b[43m]\u001b[49m\n\u001b[1;32m      8\u001b[0m         \u001b[38;5;28;01mif\u001b[39;00m r\u001b[38;5;241m.\u001b[39mshape[\u001b[38;5;241m0\u001b[39m]\u001b[38;5;241m!=\u001b[39m\u001b[38;5;241m0\u001b[39m:\n\u001b[1;32m      9\u001b[0m             \u001b[38;5;28;01mif\u001b[39;00m r\u001b[38;5;241m.\u001b[39mshape[\u001b[38;5;241m0\u001b[39m]\u001b[38;5;241m>\u001b[39m\u001b[38;5;241m1\u001b[39m:\n",
      "File \u001b[0;32m/pkg/python-3.9.12-0/lib/python3.9/site-packages/pandas/core/frame.py:3496\u001b[0m, in \u001b[0;36mDataFrame.__getitem__\u001b[0;34m(self, key)\u001b[0m\n\u001b[1;32m   3494\u001b[0m \u001b[38;5;66;03m# Do we have a (boolean) 1d indexer?\u001b[39;00m\n\u001b[1;32m   3495\u001b[0m \u001b[38;5;28;01mif\u001b[39;00m com\u001b[38;5;241m.\u001b[39mis_bool_indexer(key):\n\u001b[0;32m-> 3496\u001b[0m     \u001b[38;5;28;01mreturn\u001b[39;00m \u001b[38;5;28;43mself\u001b[39;49m\u001b[38;5;241;43m.\u001b[39;49m\u001b[43m_getitem_bool_array\u001b[49m\u001b[43m(\u001b[49m\u001b[43mkey\u001b[49m\u001b[43m)\u001b[49m\n\u001b[1;32m   3498\u001b[0m \u001b[38;5;66;03m# We are left with two options: a single key, and a collection of keys,\u001b[39;00m\n\u001b[1;32m   3499\u001b[0m \u001b[38;5;66;03m# We interpret tuples as collections only for non-MultiIndex\u001b[39;00m\n\u001b[1;32m   3500\u001b[0m is_single_key \u001b[38;5;241m=\u001b[39m \u001b[38;5;28misinstance\u001b[39m(key, \u001b[38;5;28mtuple\u001b[39m) \u001b[38;5;129;01mor\u001b[39;00m \u001b[38;5;129;01mnot\u001b[39;00m is_list_like(key)\n",
      "File \u001b[0;32m/pkg/python-3.9.12-0/lib/python3.9/site-packages/pandas/core/frame.py:3551\u001b[0m, in \u001b[0;36mDataFrame._getitem_bool_array\u001b[0;34m(self, key)\u001b[0m\n\u001b[1;32m   3549\u001b[0m key \u001b[38;5;241m=\u001b[39m check_bool_indexer(\u001b[38;5;28mself\u001b[39m\u001b[38;5;241m.\u001b[39mindex, key)\n\u001b[1;32m   3550\u001b[0m indexer \u001b[38;5;241m=\u001b[39m key\u001b[38;5;241m.\u001b[39mnonzero()[\u001b[38;5;241m0\u001b[39m]\n\u001b[0;32m-> 3551\u001b[0m \u001b[38;5;28;01mreturn\u001b[39;00m \u001b[38;5;28;43mself\u001b[39;49m\u001b[38;5;241;43m.\u001b[39;49m\u001b[43m_take_with_is_copy\u001b[49m\u001b[43m(\u001b[49m\u001b[43mindexer\u001b[49m\u001b[43m,\u001b[49m\u001b[43m \u001b[49m\u001b[43maxis\u001b[49m\u001b[38;5;241;43m=\u001b[39;49m\u001b[38;5;241;43m0\u001b[39;49m\u001b[43m)\u001b[49m\n",
      "File \u001b[0;32m/pkg/python-3.9.12-0/lib/python3.9/site-packages/pandas/core/generic.py:3716\u001b[0m, in \u001b[0;36mNDFrame._take_with_is_copy\u001b[0;34m(self, indices, axis)\u001b[0m\n\u001b[1;32m   3708\u001b[0m \u001b[38;5;28;01mdef\u001b[39;00m \u001b[38;5;21m_take_with_is_copy\u001b[39m(\u001b[38;5;28mself\u001b[39m: NDFrameT, indices, axis\u001b[38;5;241m=\u001b[39m\u001b[38;5;241m0\u001b[39m) \u001b[38;5;241m-\u001b[39m\u001b[38;5;241m>\u001b[39m NDFrameT:\n\u001b[1;32m   3709\u001b[0m     \u001b[38;5;124;03m\"\"\"\u001b[39;00m\n\u001b[1;32m   3710\u001b[0m \u001b[38;5;124;03m    Internal version of the `take` method that sets the `_is_copy`\u001b[39;00m\n\u001b[1;32m   3711\u001b[0m \u001b[38;5;124;03m    attribute to keep track of the parent dataframe (using in indexing\u001b[39;00m\n\u001b[0;32m   (...)\u001b[0m\n\u001b[1;32m   3714\u001b[0m \u001b[38;5;124;03m    See the docstring of `take` for full explanation of the parameters.\u001b[39;00m\n\u001b[1;32m   3715\u001b[0m \u001b[38;5;124;03m    \"\"\"\u001b[39;00m\n\u001b[0;32m-> 3716\u001b[0m     result \u001b[38;5;241m=\u001b[39m \u001b[38;5;28;43mself\u001b[39;49m\u001b[38;5;241;43m.\u001b[39;49m\u001b[43mtake\u001b[49m\u001b[43m(\u001b[49m\u001b[43mindices\u001b[49m\u001b[38;5;241;43m=\u001b[39;49m\u001b[43mindices\u001b[49m\u001b[43m,\u001b[49m\u001b[43m \u001b[49m\u001b[43maxis\u001b[49m\u001b[38;5;241;43m=\u001b[39;49m\u001b[43maxis\u001b[49m\u001b[43m)\u001b[49m\n\u001b[1;32m   3717\u001b[0m     \u001b[38;5;66;03m# Maybe set copy if we didn't actually change the index.\u001b[39;00m\n\u001b[1;32m   3718\u001b[0m     \u001b[38;5;28;01mif\u001b[39;00m \u001b[38;5;129;01mnot\u001b[39;00m result\u001b[38;5;241m.\u001b[39m_get_axis(axis)\u001b[38;5;241m.\u001b[39mequals(\u001b[38;5;28mself\u001b[39m\u001b[38;5;241m.\u001b[39m_get_axis(axis)):\n",
      "File \u001b[0;32m/pkg/python-3.9.12-0/lib/python3.9/site-packages/pandas/core/generic.py:3703\u001b[0m, in \u001b[0;36mNDFrame.take\u001b[0;34m(self, indices, axis, is_copy, **kwargs)\u001b[0m\n\u001b[1;32m   3699\u001b[0m nv\u001b[38;5;241m.\u001b[39mvalidate_take((), kwargs)\n\u001b[1;32m   3701\u001b[0m \u001b[38;5;28mself\u001b[39m\u001b[38;5;241m.\u001b[39m_consolidate_inplace()\n\u001b[0;32m-> 3703\u001b[0m new_data \u001b[38;5;241m=\u001b[39m \u001b[38;5;28;43mself\u001b[39;49m\u001b[38;5;241;43m.\u001b[39;49m\u001b[43m_mgr\u001b[49m\u001b[38;5;241;43m.\u001b[39;49m\u001b[43mtake\u001b[49m\u001b[43m(\u001b[49m\n\u001b[1;32m   3704\u001b[0m \u001b[43m    \u001b[49m\u001b[43mindices\u001b[49m\u001b[43m,\u001b[49m\u001b[43m \u001b[49m\u001b[43maxis\u001b[49m\u001b[38;5;241;43m=\u001b[39;49m\u001b[38;5;28;43mself\u001b[39;49m\u001b[38;5;241;43m.\u001b[39;49m\u001b[43m_get_block_manager_axis\u001b[49m\u001b[43m(\u001b[49m\u001b[43maxis\u001b[49m\u001b[43m)\u001b[49m\u001b[43m,\u001b[49m\u001b[43m \u001b[49m\u001b[43mverify\u001b[49m\u001b[38;5;241;43m=\u001b[39;49m\u001b[38;5;28;43;01mTrue\u001b[39;49;00m\n\u001b[1;32m   3705\u001b[0m \u001b[43m\u001b[49m\u001b[43m)\u001b[49m\n\u001b[1;32m   3706\u001b[0m \u001b[38;5;28;01mreturn\u001b[39;00m \u001b[38;5;28mself\u001b[39m\u001b[38;5;241m.\u001b[39m_constructor(new_data)\u001b[38;5;241m.\u001b[39m__finalize__(\u001b[38;5;28mself\u001b[39m, method\u001b[38;5;241m=\u001b[39m\u001b[38;5;124m\"\u001b[39m\u001b[38;5;124mtake\u001b[39m\u001b[38;5;124m\"\u001b[39m)\n",
      "File \u001b[0;32m/pkg/python-3.9.12-0/lib/python3.9/site-packages/pandas/core/internals/managers.py:900\u001b[0m, in \u001b[0;36mBaseBlockManager.take\u001b[0;34m(self, indexer, axis, verify)\u001b[0m\n\u001b[1;32m    897\u001b[0m indexer \u001b[38;5;241m=\u001b[39m maybe_convert_indices(indexer, n, verify\u001b[38;5;241m=\u001b[39mverify)\n\u001b[1;32m    899\u001b[0m new_labels \u001b[38;5;241m=\u001b[39m \u001b[38;5;28mself\u001b[39m\u001b[38;5;241m.\u001b[39maxes[axis]\u001b[38;5;241m.\u001b[39mtake(indexer)\n\u001b[0;32m--> 900\u001b[0m \u001b[38;5;28;01mreturn\u001b[39;00m \u001b[38;5;28;43mself\u001b[39;49m\u001b[38;5;241;43m.\u001b[39;49m\u001b[43mreindex_indexer\u001b[49m\u001b[43m(\u001b[49m\n\u001b[1;32m    901\u001b[0m \u001b[43m    \u001b[49m\u001b[43mnew_axis\u001b[49m\u001b[38;5;241;43m=\u001b[39;49m\u001b[43mnew_labels\u001b[49m\u001b[43m,\u001b[49m\n\u001b[1;32m    902\u001b[0m \u001b[43m    \u001b[49m\u001b[43mindexer\u001b[49m\u001b[38;5;241;43m=\u001b[39;49m\u001b[43mindexer\u001b[49m\u001b[43m,\u001b[49m\n\u001b[1;32m    903\u001b[0m \u001b[43m    \u001b[49m\u001b[43maxis\u001b[49m\u001b[38;5;241;43m=\u001b[39;49m\u001b[43maxis\u001b[49m\u001b[43m,\u001b[49m\n\u001b[1;32m    904\u001b[0m \u001b[43m    \u001b[49m\u001b[43mallow_dups\u001b[49m\u001b[38;5;241;43m=\u001b[39;49m\u001b[38;5;28;43;01mTrue\u001b[39;49;00m\u001b[43m,\u001b[49m\n\u001b[1;32m    905\u001b[0m \u001b[43m    \u001b[49m\u001b[43mconsolidate\u001b[49m\u001b[38;5;241;43m=\u001b[39;49m\u001b[38;5;28;43;01mFalse\u001b[39;49;00m\u001b[43m,\u001b[49m\n\u001b[1;32m    906\u001b[0m \u001b[43m\u001b[49m\u001b[43m)\u001b[49m\n",
      "File \u001b[0;32m/pkg/python-3.9.12-0/lib/python3.9/site-packages/pandas/core/internals/managers.py:709\u001b[0m, in \u001b[0;36mBaseBlockManager.reindex_indexer\u001b[0;34m(self, new_axis, indexer, axis, fill_value, allow_dups, copy, consolidate, only_slice, use_na_proxy)\u001b[0m\n\u001b[1;32m    706\u001b[0m new_mgr \u001b[38;5;241m=\u001b[39m \u001b[38;5;28mtype\u001b[39m(\u001b[38;5;28mself\u001b[39m)\u001b[38;5;241m.\u001b[39mfrom_blocks(new_blocks, new_axes)\n\u001b[1;32m    707\u001b[0m \u001b[38;5;28;01mif\u001b[39;00m axis \u001b[38;5;241m==\u001b[39m \u001b[38;5;241m1\u001b[39m:\n\u001b[1;32m    708\u001b[0m     \u001b[38;5;66;03m# We can avoid the need to rebuild these\u001b[39;00m\n\u001b[0;32m--> 709\u001b[0m     new_mgr\u001b[38;5;241m.\u001b[39m_blknos \u001b[38;5;241m=\u001b[39m \u001b[38;5;28;43mself\u001b[39;49m\u001b[38;5;241;43m.\u001b[39;49m\u001b[43mblknos\u001b[49m\u001b[38;5;241;43m.\u001b[39;49m\u001b[43mcopy\u001b[49m\u001b[43m(\u001b[49m\u001b[43m)\u001b[49m\n\u001b[1;32m    710\u001b[0m     new_mgr\u001b[38;5;241m.\u001b[39m_blklocs \u001b[38;5;241m=\u001b[39m \u001b[38;5;28mself\u001b[39m\u001b[38;5;241m.\u001b[39mblklocs\u001b[38;5;241m.\u001b[39mcopy()\n\u001b[1;32m    711\u001b[0m \u001b[38;5;28;01mreturn\u001b[39;00m new_mgr\n",
      "\u001b[0;31mKeyboardInterrupt\u001b[0m: "
     ]
    }
   ],
   "source": [
    "def make_cluster_df():\n",
    "    \n",
    "    data={k:[] for k in tissue_dict.keys()}\n",
    "    \n",
    "    error_count=0\n",
    "    \n",
    "    for pid in tqdm(all_ids):\n",
    "        \n",
    "        for k,tab in tissue_dict.items():\n",
    "            \n",
    "            r=tab[tab.pID==pid]\n",
    "            \n",
    "            if r.shape[0]!=0:\n",
    "                \n",
    "                if r.shape[0]>1:\n",
    "                    error_count+=1\n",
    "                    print(f\"errors encountered: {error_count}\",end=\"\\r\")\n",
    "                    continue\n",
    "                    \n",
    "                data[k].append(float(r.log2OR))\n",
    "            \n",
    "            else:\n",
    "                \n",
    "                data[k].append(0)\n",
    "                \n",
    "    df=pd.DataFrame(data,index=all_ids)\n",
    "    return df"
   ]
  },
  {
   "cell_type": "code",
   "execution_count": 60,
   "id": "9bd16c06-e06e-4019-b115-6d5cce681590",
   "metadata": {},
   "outputs": [],
   "source": [
    "tabl_path=\"/project/hfa_work/ceraolo/theco/tables/clustering\""
   ]
  },
  {
   "cell_type": "code",
   "execution_count": 54,
   "id": "5b085f99-2d61-4e55-a3fc-54c920f90919",
   "metadata": {},
   "outputs": [
    {
     "data": {
      "text/plain": [
       "338    1.000000\n",
       "340    0.981853\n",
       "Name: log2OR, dtype: float64"
      ]
     },
     "execution_count": 54,
     "metadata": {},
     "output_type": "execute_result"
    }
   ],
   "source": [
    "r.log2OR"
   ]
  },
  {
   "cell_type": "code",
   "execution_count": null,
   "id": "34aef12b-8673-40ac-81c1-eab3898ad6cf",
   "metadata": {},
   "outputs": [],
   "source": []
  }
 ],
 "metadata": {
  "kernelspec": {
   "display_name": "Python 3 (ipykernel)",
   "language": "python",
   "name": "python3"
  },
  "language_info": {
   "codemirror_mode": {
    "name": "ipython",
    "version": 3
   },
   "file_extension": ".py",
   "mimetype": "text/x-python",
   "name": "python",
   "nbconvert_exporter": "python",
   "pygments_lexer": "ipython3",
   "version": "3.9.12"
  }
 },
 "nbformat": 4,
 "nbformat_minor": 5
}
