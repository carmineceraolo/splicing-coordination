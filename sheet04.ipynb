{
 "cells": [
  {
   "cell_type": "code",
   "execution_count": 1,
   "id": "ac71a172-9f6f-4aff-8395-566fcd027a89",
   "metadata": {},
   "outputs": [
    {
     "name": "stderr",
     "output_type": "stream",
     "text": [
      "INFO:This is isootools version 0.2.11rc1\n"
     ]
    }
   ],
   "source": [
    "from isotools import Transcriptome\n",
    "from isotools import __version__ as isotools_version\n",
    "from isotools._utils import _filter_event\n",
    "\n",
    "import os\n",
    "from pathlib import Path\n",
    "import logging\n",
    "from collections import Counter\n",
    "from urllib.request import urlretrieve\n",
    "import itertools\n",
    "from tqdm.notebook import tqdm_notebook as tqdm\n",
    "\n",
    "import math\n",
    "import numpy as np\n",
    "import pandas as pd\n",
    "import matplotlib.pyplot as plt\n",
    "import seaborn as sns\n",
    "import pysam\n",
    "\n",
    "logging.basicConfig(format='%(levelname)s:%(message)s', level=logging.INFO)\n",
    "logger=logging.getLogger('isotools')\n",
    "logger.info(f'This is isootools version {isotools_version}')"
   ]
  },
  {
   "cell_type": "code",
   "execution_count": 2,
   "id": "abb0a992-cf42-484e-ad87-31043b4e086a",
   "metadata": {},
   "outputs": [
    {
     "name": "stderr",
     "output_type": "stream",
     "text": [
      "INFO:loading transcriptome from ./theco_isotools.pkl\n",
      "WARNING:This is isotools version 0.2.11rc1, but data has been pickled with version 0.2.10rc39, which may be incompatible\n"
     ]
    }
   ],
   "source": [
    "try:\n",
    "    isoseq=Transcriptome.load(\"./theco_isotools.pkl\")\n",
    "    \n",
    "except FileNotFoundError:    \n",
    "    try:\n",
    "        isoseq=Transcriptome.from_reference(anno+\".isotools.pkl\")\n",
    "        \n",
    "    except:\n",
    "        isoseq=Transcriptome.from_reference(anno+\".gtf.gz\")\n",
    "        isoseq.save_reference(anno+'.isotools.pkl')"
   ]
  },
  {
   "cell_type": "code",
   "execution_count": 3,
   "id": "e742297f-9b96-4d78-b00b-9020c6b7b2a6",
   "metadata": {},
   "outputs": [],
   "source": [
    "stbl=isoseq.sample_table"
   ]
  },
  {
   "cell_type": "code",
   "execution_count": 4,
   "id": "3fe64770-e5de-40a1-a129-adbe95966e2a",
   "metadata": {},
   "outputs": [],
   "source": [
    "tissue_names=list(set(stbl[stbl.sample_type==\"tissue\"].sample_subtype))"
   ]
  },
  {
   "cell_type": "code",
   "execution_count": 5,
   "id": "cdd474f2-496f-458a-b062-523a656860de",
   "metadata": {},
   "outputs": [],
   "source": [
    "groups={}\n",
    "\n",
    "for tissue in tissue_names:\n",
    "    groups[tissue]=list(stbl.name[stbl.sample_subtype==tissue])"
   ]
  },
  {
   "cell_type": "code",
   "execution_count": 9,
   "id": "5098d841-95d7-433a-b9f1-9b29b0fbac61",
   "metadata": {},
   "outputs": [],
   "source": [
    "genes=isoseq.gene_table()"
   ]
  },
  {
   "cell_type": "code",
   "execution_count": 18,
   "id": "3a4980bd-21d2-48f9-adcb-fe7d41589a41",
   "metadata": {},
   "outputs": [
    {
     "data": {
      "text/html": [
       "<div>\n",
       "<style scoped>\n",
       "    .dataframe tbody tr th:only-of-type {\n",
       "        vertical-align: middle;\n",
       "    }\n",
       "\n",
       "    .dataframe tbody tr th {\n",
       "        vertical-align: top;\n",
       "    }\n",
       "\n",
       "    .dataframe thead th {\n",
       "        text-align: right;\n",
       "    }\n",
       "</style>\n",
       "<table border=\"1\" class=\"dataframe\">\n",
       "  <thead>\n",
       "    <tr style=\"text-align: right;\">\n",
       "      <th></th>\n",
       "      <th>chr</th>\n",
       "      <th>start</th>\n",
       "      <th>end</th>\n",
       "      <th>strand</th>\n",
       "      <th>gene_name</th>\n",
       "      <th>n_transcripts</th>\n",
       "    </tr>\n",
       "  </thead>\n",
       "  <tbody>\n",
       "    <tr>\n",
       "      <th>23</th>\n",
       "      <td>chr22_KI270734v1_random</td>\n",
       "      <td>138081</td>\n",
       "      <td>161852</td>\n",
       "      <td>-</td>\n",
       "      <td>ENSG00000277196.4</td>\n",
       "      <td>328</td>\n",
       "    </tr>\n",
       "    <tr>\n",
       "      <th>64</th>\n",
       "      <td>chr21</td>\n",
       "      <td>37073225</td>\n",
       "      <td>37203112</td>\n",
       "      <td>+</td>\n",
       "      <td>ENSG00000182670.13</td>\n",
       "      <td>1556</td>\n",
       "    </tr>\n",
       "    <tr>\n",
       "      <th>199</th>\n",
       "      <td>chr21</td>\n",
       "      <td>45263927</td>\n",
       "      <td>45287898</td>\n",
       "      <td>-</td>\n",
       "      <td>ENSG00000186866.16</td>\n",
       "      <td>400</td>\n",
       "    </tr>\n",
       "    <tr>\n",
       "      <th>517</th>\n",
       "      <td>chr21</td>\n",
       "      <td>46286336</td>\n",
       "      <td>46297751</td>\n",
       "      <td>+</td>\n",
       "      <td>ENSG00000182362.13</td>\n",
       "      <td>111</td>\n",
       "    </tr>\n",
       "    <tr>\n",
       "      <th>520</th>\n",
       "      <td>chr21</td>\n",
       "      <td>41885111</td>\n",
       "      <td>41953890</td>\n",
       "      <td>-</td>\n",
       "      <td>ENSG00000157617.16</td>\n",
       "      <td>146</td>\n",
       "    </tr>\n",
       "    <tr>\n",
       "      <th>...</th>\n",
       "      <td>...</td>\n",
       "      <td>...</td>\n",
       "      <td>...</td>\n",
       "      <td>...</td>\n",
       "      <td>...</td>\n",
       "      <td>...</td>\n",
       "    </tr>\n",
       "    <tr>\n",
       "      <th>694291</th>\n",
       "      <td>chr22_KI270733v1_random</td>\n",
       "      <td>122922</td>\n",
       "      <td>178625</td>\n",
       "      <td>-</td>\n",
       "      <td>PB_novel_51331</td>\n",
       "      <td>118</td>\n",
       "    </tr>\n",
       "    <tr>\n",
       "      <th>694635</th>\n",
       "      <td>chrUn_KI270742v1</td>\n",
       "      <td>315</td>\n",
       "      <td>110003</td>\n",
       "      <td>-</td>\n",
       "      <td>PB_novel_51469</td>\n",
       "      <td>258</td>\n",
       "    </tr>\n",
       "    <tr>\n",
       "      <th>694701</th>\n",
       "      <td>SIRV5</td>\n",
       "      <td>1000</td>\n",
       "      <td>13606</td>\n",
       "      <td>+</td>\n",
       "      <td>PB_novel_51499</td>\n",
       "      <td>329</td>\n",
       "    </tr>\n",
       "    <tr>\n",
       "      <th>694708</th>\n",
       "      <td>SIRV6</td>\n",
       "      <td>999</td>\n",
       "      <td>11838</td>\n",
       "      <td>+</td>\n",
       "      <td>PB_novel_51502</td>\n",
       "      <td>183</td>\n",
       "    </tr>\n",
       "    <tr>\n",
       "      <th>694883</th>\n",
       "      <td>chrEBV</td>\n",
       "      <td>11243</td>\n",
       "      <td>161518</td>\n",
       "      <td>+</td>\n",
       "      <td>PB_novel_129863</td>\n",
       "      <td>228</td>\n",
       "    </tr>\n",
       "  </tbody>\n",
       "</table>\n",
       "<p>9044 rows × 6 columns</p>\n",
       "</div>"
      ],
      "text/plain": [
       "                            chr     start       end strand  \\\n",
       "23      chr22_KI270734v1_random    138081    161852      -   \n",
       "64                        chr21  37073225  37203112      +   \n",
       "199                       chr21  45263927  45287898      -   \n",
       "517                       chr21  46286336  46297751      +   \n",
       "520                       chr21  41885111  41953890      -   \n",
       "...                         ...       ...       ...    ...   \n",
       "694291  chr22_KI270733v1_random    122922    178625      -   \n",
       "694635         chrUn_KI270742v1       315    110003      -   \n",
       "694701                    SIRV5      1000     13606      +   \n",
       "694708                    SIRV6       999     11838      +   \n",
       "694883                   chrEBV     11243    161518      +   \n",
       "\n",
       "                 gene_name  n_transcripts  \n",
       "23       ENSG00000277196.4            328  \n",
       "64      ENSG00000182670.13           1556  \n",
       "199     ENSG00000186866.16            400  \n",
       "517     ENSG00000182362.13            111  \n",
       "520     ENSG00000157617.16            146  \n",
       "...                    ...            ...  \n",
       "694291      PB_novel_51331            118  \n",
       "694635      PB_novel_51469            258  \n",
       "694701      PB_novel_51499            329  \n",
       "694708      PB_novel_51502            183  \n",
       "694883     PB_novel_129863            228  \n",
       "\n",
       "[9044 rows x 6 columns]"
      ]
     },
     "execution_count": 18,
     "metadata": {},
     "output_type": "execute_result"
    }
   ],
   "source": [
    "genes[genes.n_transcripts>100]"
   ]
  },
  {
   "cell_type": "code",
   "execution_count": 20,
   "id": "999d3bfc-9199-42d6-acb0-0457f361adf3",
   "metadata": {},
   "outputs": [],
   "source": [
    "g=isoseq[\"ENSG00000182670.13\"]"
   ]
  },
  {
   "cell_type": "code",
   "execution_count": 25,
   "id": "dc1f9002-e410-4d1f-b9fa-82e31b3999d8",
   "metadata": {},
   "outputs": [
    {
     "data": {
      "text/plain": [
       "dict_keys(['ID', 'chr', 'strand', 'name', 'reference', 'transcripts', 'segment_graph', 'coverage', 'chimeric'])"
      ]
     },
     "execution_count": 25,
     "metadata": {},
     "output_type": "execute_result"
    }
   ],
   "source": [
    "g.data.keys()"
   ]
  },
  {
   "cell_type": "code",
   "execution_count": 32,
   "id": "6a0a25fd-fde3-422f-91d0-4a9b9c62b7be",
   "metadata": {},
   "outputs": [],
   "source": [
    "sg=g.segment_graph"
   ]
  },
  {
   "cell_type": "code",
   "execution_count": 34,
   "id": "d5155a3c-ec2a-47db-ae11-cdaf11983268",
   "metadata": {},
   "outputs": [
    {
     "ename": "AttributeError",
     "evalue": "'SegmentGraph' object has no attribute 'alternative_splicing_events'",
     "output_type": "error",
     "traceback": [
      "\u001b[0;31m---------------------------------------------------------------------------\u001b[0m",
      "\u001b[0;31mAttributeError\u001b[0m                            Traceback (most recent call last)",
      "Input \u001b[0;32mIn [34]\u001b[0m, in \u001b[0;36m<cell line: 1>\u001b[0;34m()\u001b[0m\n\u001b[0;32m----> 1\u001b[0m \u001b[43msg\u001b[49m\u001b[38;5;241;43m.\u001b[39;49m\u001b[43malternative_splicing_events\u001b[49m()\n",
      "\u001b[0;31mAttributeError\u001b[0m: 'SegmentGraph' object has no attribute 'alternative_splicing_events'"
     ]
    }
   ],
   "source": [
    "sg.alternative_splicing_events()"
   ]
  },
  {
   "cell_type": "code",
   "execution_count": 38,
   "id": "87a53cac-5e09-4ecc-9fbb-386b1b839461",
   "metadata": {},
   "outputs": [],
   "source": [
    "isoseq.add_filter( \"PROTEIN_CODING\", 'transcript_type==\"protein_coding\"', context='reference')"
   ]
  },
  {
   "cell_type": "code",
   "execution_count": 69,
   "id": "8c841c88-f1aa-42b6-8004-66126ce40409",
   "metadata": {},
   "outputs": [
    {
     "name": "stderr",
     "output_type": "stream",
     "text": [
      "100%|███████████████████████████████| 695092/695092 [16:34<00:00, 698.61genes/s]\n"
     ]
    }
   ],
   "source": [
    "res=isoseq.alternative_splicing_events(progress_bar=True,query=\"not NOVEL_GENE\",samples=groups[\"aorta\"])"
   ]
  },
  {
   "cell_type": "code",
   "execution_count": 64,
   "id": "0c8ab22e-6060-4817-ba8a-0b99e37aa5d0",
   "metadata": {},
   "outputs": [
    {
     "data": {
      "text/plain": [
       "14920"
      ]
     },
     "execution_count": 64,
     "metadata": {},
     "output_type": "execute_result"
    }
   ],
   "source": [
    "sum(res.iloc[:,6])"
   ]
  },
  {
   "cell_type": "code",
   "execution_count": 68,
   "id": "bf801b75-27f3-4b80-8caf-b014b86ac688",
   "metadata": {},
   "outputs": [
    {
     "data": {
      "text/html": [
       "<div>\n",
       "<style scoped>\n",
       "    .dataframe tbody tr th:only-of-type {\n",
       "        vertical-align: middle;\n",
       "    }\n",
       "\n",
       "    .dataframe tbody tr th {\n",
       "        vertical-align: top;\n",
       "    }\n",
       "\n",
       "    .dataframe thead th {\n",
       "        text-align: right;\n",
       "    }\n",
       "</style>\n",
       "<table border=\"1\" class=\"dataframe\">\n",
       "  <thead>\n",
       "    <tr style=\"text-align: right;\">\n",
       "      <th></th>\n",
       "      <th>gene</th>\n",
       "      <th>chr</th>\n",
       "      <th>start</th>\n",
       "      <th>end</th>\n",
       "      <th>splice_type</th>\n",
       "      <th>novel</th>\n",
       "      <th>aorta_ENCFF745HHL_in_cov</th>\n",
       "      <th>aorta_ENCFF099TJN_in_cov</th>\n",
       "      <th>aorta_ENCFF745HHL_total_cov</th>\n",
       "      <th>aorta_ENCFF099TJN_total_cov</th>\n",
       "    </tr>\n",
       "  </thead>\n",
       "  <tbody>\n",
       "    <tr>\n",
       "      <th>29</th>\n",
       "      <td>ENSG00000159079.18</td>\n",
       "      <td>chr21</td>\n",
       "      <td>32601973</td>\n",
       "      <td>32602271</td>\n",
       "      <td>IR</td>\n",
       "      <td>False</td>\n",
       "      <td>80</td>\n",
       "      <td>6</td>\n",
       "      <td>92</td>\n",
       "      <td>11</td>\n",
       "    </tr>\n",
       "    <tr>\n",
       "      <th>30</th>\n",
       "      <td>ENSG00000159079.18</td>\n",
       "      <td>chr21</td>\n",
       "      <td>32602367</td>\n",
       "      <td>32603160</td>\n",
       "      <td>IR</td>\n",
       "      <td>False</td>\n",
       "      <td>79</td>\n",
       "      <td>6</td>\n",
       "      <td>91</td>\n",
       "      <td>10</td>\n",
       "    </tr>\n",
       "    <tr>\n",
       "      <th>37</th>\n",
       "      <td>ENSG00000160310.17</td>\n",
       "      <td>chr21</td>\n",
       "      <td>46635763</td>\n",
       "      <td>46636443</td>\n",
       "      <td>IR</td>\n",
       "      <td>True</td>\n",
       "      <td>76</td>\n",
       "      <td>7</td>\n",
       "      <td>92</td>\n",
       "      <td>11</td>\n",
       "    </tr>\n",
       "    <tr>\n",
       "      <th>64</th>\n",
       "      <td>ENSG00000157557.11</td>\n",
       "      <td>chr21</td>\n",
       "      <td>38814392</td>\n",
       "      <td>38814780</td>\n",
       "      <td>IR</td>\n",
       "      <td>True</td>\n",
       "      <td>71</td>\n",
       "      <td>77</td>\n",
       "      <td>86</td>\n",
       "      <td>79</td>\n",
       "    </tr>\n",
       "  </tbody>\n",
       "</table>\n",
       "</div>"
      ],
      "text/plain": [
       "                  gene    chr     start       end splice_type  novel  \\\n",
       "29  ENSG00000159079.18  chr21  32601973  32602271          IR  False   \n",
       "30  ENSG00000159079.18  chr21  32602367  32603160          IR  False   \n",
       "37  ENSG00000160310.17  chr21  46635763  46636443          IR   True   \n",
       "64  ENSG00000157557.11  chr21  38814392  38814780          IR   True   \n",
       "\n",
       "    aorta_ENCFF745HHL_in_cov  aorta_ENCFF099TJN_in_cov  \\\n",
       "29                        80                         6   \n",
       "30                        79                         6   \n",
       "37                        76                         7   \n",
       "64                        71                        77   \n",
       "\n",
       "    aorta_ENCFF745HHL_total_cov  aorta_ENCFF099TJN_total_cov  \n",
       "29                           92                           11  \n",
       "30                           91                           10  \n",
       "37                           92                           11  \n",
       "64                           86                           79  "
      ]
     },
     "execution_count": 68,
     "metadata": {},
     "output_type": "execute_result"
    }
   ],
   "source": [
    "res[res.splice_type==\"IR\"]"
   ]
  },
  {
   "cell_type": "code",
   "execution_count": null,
   "id": "85e4af0e-5b5f-48cc-9973-77df482a382a",
   "metadata": {},
   "outputs": [],
   "source": []
  }
 ],
 "metadata": {
  "kernelspec": {
   "display_name": "Python 3 (ipykernel)",
   "language": "python",
   "name": "python3"
  },
  "language_info": {
   "codemirror_mode": {
    "name": "ipython",
    "version": 3
   },
   "file_extension": ".py",
   "mimetype": "text/x-python",
   "name": "python",
   "nbconvert_exporter": "python",
   "pygments_lexer": "ipython3",
   "version": "3.9.12"
  }
 },
 "nbformat": 4,
 "nbformat_minor": 5
}
